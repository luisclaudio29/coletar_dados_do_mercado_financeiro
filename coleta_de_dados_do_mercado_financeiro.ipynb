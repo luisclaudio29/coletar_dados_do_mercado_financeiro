{
  "nbformat": 4,
  "nbformat_minor": 0,
  "metadata": {
    "colab": {
      "provenance": [],
      "authorship_tag": "ABX9TyOvKRh0tH62a+9X6BPRyDdI",
      "include_colab_link": true
    },
    "kernelspec": {
      "name": "python3",
      "display_name": "Python 3"
    },
    "language_info": {
      "name": "python"
    }
  },
  "cells": [
    {
      "cell_type": "markdown",
      "metadata": {
        "id": "view-in-github",
        "colab_type": "text"
      },
      "source": [
        "<a href=\"https://colab.research.google.com/github/luisclaudio29/collect_financial_market_data/blob/main/coleta_de_dados_do_mercado_financeiro.ipynb\" target=\"_parent\"><img src=\"https://colab.research.google.com/assets/colab-badge.svg\" alt=\"Open In Colab\"/></a>"
      ]
    },
    {
      "cell_type": "code",
      "execution_count": 4,
      "metadata": {
        "id": "nl12tG-UcCuy",
        "colab": {
          "base_uri": "https://localhost:8080/"
        },
        "outputId": "cdefd964-f9b0-4e73-9ea6-f8ddd79ea60f"
      },
      "outputs": [
        {
          "output_type": "stream",
          "name": "stdout",
          "text": [
            "Cotação da Apple: $184.40\n"
          ]
        }
      ],
      "source": [
        "import requests\n",
        "from bs4 import BeautifulSoup\n",
        "\n",
        "\n",
        "def coletar_cotacoes_acoes():\n",
        "    # ações da apple\n",
        "    url = 'https://www.google.com/finance/quote/AAPL:NASDAQ'\n",
        "\n",
        "    # enviar uma solicitação Http para página\n",
        "    response = requests.get(url)\n",
        "\n",
        "    if response.status_code == 200:\n",
        "        # analisando o conteudo da página BeautifulSoup\n",
        "        soup = BeautifulSoup(response.text, 'html.parser')\n",
        "\n",
        "        # encontar o elemento que contém a cotação atual\n",
        "        cotacao_element = soup.find('div', {'class': 'YMlKec fxKbKc'})\n",
        "\n",
        "        if cotacao_element:\n",
        "            # extrair e imprimir a cotação atual\n",
        "            cotacao = cotacao_element.text.strip()\n",
        "            print(f'Cotação da Apple: {cotacao}')\n",
        "        else:\n",
        "            print('Cotação não encontrada.')\n",
        "\n",
        "    else:\n",
        "        print('Falha ao acessar a página')\n",
        "\n",
        "\n",
        "if __name__ == \"__main__\":\n",
        "    coletar_cotacoes_acoes()\n",
        "\n",
        "\n",
        "\n",
        "\n",
        "\n",
        "\n",
        "\n",
        "\n"
      ]
    }
  ]
}